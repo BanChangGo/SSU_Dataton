{
 "cells": [
  {
   "cell_type": "markdown",
   "metadata": {},
   "source": [
    "# 기본적 데이터 분석 및 시각화\n",
    "- 일단 익숙한 ipynb 파일 선택\n",
    "- 추후 python 등을 이용해서 프로그램화 해도 좋을 듯 함"
   ]
  },
  {
   "cell_type": "markdown",
   "metadata": {},
   "source": []
  }
 ],
 "metadata": {
  "language_info": {
   "name": "python"
  }
 },
 "nbformat": 4,
 "nbformat_minor": 2
}
